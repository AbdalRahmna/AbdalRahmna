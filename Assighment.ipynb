{
 "cells": [
  {
   "cell_type": "markdown",
   "id": "e7f60853-7aba-4877-a1d5-b99c79d0c11d",
   "metadata": {},
   "source": [
    "There are a total of 25 points possible for this final project.\n",
    "\n",
    "Your grade will be based on the following Exercises:\n",
    "\n",
    "Exercise 2 - Create a markdown cell with the title of the notebook. (1 pt)\n",
    "\n",
    "Exercise 3 - Create a markdown cell for an introduction. (1 pt)\n",
    "\n",
    "Exercise 4 - Create a markdown cell to list data science languages. (3 pts)\n",
    "\n",
    "Exercise 5 - Create a markdown cell to list data science libraries. (3 pts)\n",
    "\n",
    "Exercise 6 - Create a markdown cell with a table of Data Science tools. (3 pts)\n",
    "\n",
    "Exercise 7 - Create a markdown cell introducing arithmetic expression examples. (1 pt)\n",
    "\n",
    "Exercise 8 - Create a code cell to multiply and add numbers. (2 pts)\n",
    "\n",
    "Exercise 9 - Create a code cell to convert minutes to hours. (2 pts)\n",
    "\n",
    "Exercise 10 -Insert a markdown cell to list Objectives. (3 pts)\n",
    "\n",
    "Exercise 11 - Create a markdown cell to indicate the Author’s name. (2 pts)\n",
    "\n",
    "Exercise 12 - Share your notebook through GitHub (3 pts)\n",
    "\n",
    "Exercise 13 - Take a screenshot of the first page of the notebook. (1 pt)\n",
    "\n",
    "The main grading criteria will be:\n",
    "\n",
    "Is the notebook publicly viewable?\n",
    "\n",
    "Are there, or do there appear to be, at least 8 Markdown cells and 2 code cells? \n",
    "\n",
    "Are the criteria for each cell fulfilled, as described in the \"Guidelines for Submission\"?\n",
    "\n",
    "You will not be judged on:\n",
    "\n",
    "Your English language, including spelling or grammatical mistakes.\n",
    "\n"
   ]
  },
  {
   "cell_type": "markdown",
   "id": "68974239-51cb-49b6-a01e-caa9530eae23",
   "metadata": {},
   "source": [
    "Exercise 2 - Create a markdown cell with the title of the notebook. (1 pt):\n",
    "\n",
    "--->>> Markdowns Notebook <<<-----"
   ]
  },
  {
   "cell_type": "markdown",
   "id": "abce67e3-52c4-4505-9c70-936eaab87cb6",
   "metadata": {},
   "source": [
    "Exercise 3 - Create a markdown cell for an introduction. (1 pt\n",
    "\n",
    "introduction for the jupter notebook , Hello Every one"
   ]
  },
  {
   "cell_type": "markdown",
   "id": "b2b7b297-c71a-4e1e-b485-b487afd8dcfe",
   "metadata": {},
   "source": [
    "Exercise 4 - Create a markdown cell to list data science languages. (3 pts)\n",
    "\n",
    "\n",
    "There are many of dataScience language : \n",
    "\n",
    "Python\n",
    "\n",
    "Description: Python is one of the most popular languages for data science due to its simplicity, readability, and the availability of a wide range of libraries and frameworks.\n",
    "Key Libraries: NumPy, Pandas, Matplotlib, Seaborn, Scikit-learn, TensorFlow, PyTorch, Keras.\n",
    "R\n",
    "\n",
    "Description: R is a language specifically designed for statistical analysis and data visualization. It has a rich ecosystem of packages for data manipulation, statistical modeling, and machine learning.\n",
    "Key Libraries: ggplot2, dplyr, tidyr, caret, lubridate, shiny.\n",
    "SQL\n",
    "\n",
    "Description: SQL (Structured Query Language) is essential for data science as it is used to manage and manipulate relational databases.\n",
    "Key Features: Querying, updating, and managing relational databases.\n",
    "Java\n",
    "\n",
    "Description: Java is a versatile language that is used in data science for building scalable and high-performance applications.\n",
    "Key Libraries: Apache Hadoop, Apache Spark, Weka, Deeplearning4j.\n",
    "Scala\n",
    "\n",
    "Description: Scala is used with Apache Spark for big data processing and machine learning. It is known for its conciseness and scalability.\n",
    "Key Libraries: Apache Spark, Breeze.\n",
    "Julia\n",
    "\n",
    "Description: Julia is a high-level, high-performance dynamic programming language for technical computing. It is designed to be easy to use and efficient for numerical and scientific computing.\n",
    "Key Libraries: DataFrames.jl, Plots.jl, Flux.jl.\n",
    "MATLAB\n",
    "\n",
    "Description: MATLAB is a proprietary language used for numerical computing, simulation, and data analysis. It is widely used in engineering and scientific research.\n",
    "Key Features: Matrix manipulation, plotting, and algorithm implementation.\n",
    "SAS\n",
    "\n",
    "Description: SAS (Statistical Analysis System) is a proprietary software suite that provides advanced analytics, business intelligence, data management, and predictive analytics.\n",
    "Key Features: Data manipulation, statistical analysis, and reporting.\n",
    "C++\n",
    "\n",
    "Description: C++ is used in data science for performance-critical applications, such as developing high-frequency trading algorithms or optimizing machine learning models.\n",
    "Key Libraries: Armadillo, Eigen, Dlib.\n",
    "Go (Golang)\n",
    "\n",
    "Description: Go is a statically typed, compiled language designed at Google. It is gaining popularity in data science for its performance and concurrency features.\n",
    "Key Libraries: Gonum, GoLearn.\n",
    "JavaScript\n",
    "\n",
    "Description: JavaScript is used for web-based data visualization and interactive dashboards.\n",
    "Key Libraries: D3.js, Chart.js, Plotly.js.\n",
    "TypeScript\n",
    "\n",
    "Description: TypeScript is a superset of JavaScript that adds static typing. It is used for large-scale applications and can be used for data visualization and web development.\n",
    "Key Features: Static typing, improved tooling, and compatibility with JavaScript libraries.\n"
   ]
  },
  {
   "cell_type": "markdown",
   "id": "8fe2eabb-ea77-41ae-bb91-3994ae8c4b7a",
   "metadata": {},
   "source": [
    "Exercise 5 - Create a markdown cell to list data science libraries. (3 pts)\n",
    "\n",
    "\n",
    "1-Numpy -->>For matrix & matrices \n",
    "\n",
    "2-pandas -->> for frameworks and data mainplution \n",
    "\n",
    "3-matblotlib & seaborn -->> For visualization \n",
    "\n",
    "4-sicket-learn -->> for machine learning \n",
    "\n",
    "5-Tensorflow & Pytorch --->> for Deep learning \n",
    "\n",
    "6-Computer vision -->> for deep learning "
   ]
  },
  {
   "cell_type": "markdown",
   "id": "75941fe7-db37-4cbc-ab5d-6397b34544c3",
   "metadata": {},
   "source": [
    "# Data Science Tools\n",
    "\n",
    "| Tool          | Description                                                 |\n",
    "|---------------|------------------------------------------------------------|\n",
    "| Python        | A versatile programming language with a rich ecosystem of libraries for data science (e.g., NumPy, Pandas, Scikit-learn). |\n",
    "| R             | A language specifically designed for statistical analysis and data visualization, with packages like ggplot2 and dplyr.    |\n",
    "| SQL           | Structured Query Language for managing and manipulating relational databases.                                            |\n",
    "| Jupyter Notebook | An open-source web application that allows you to create and share documents that contain live code, equations, visualizations, and narrative text. |\n",
    "| RStudio       | An integrated development environment (IDE) for R, with a console, syntax-highlighting editor, and tools for plotting, viewing history, debugging, and managing your workspace. |\n",
    "| Tableau       | A powerful data visualization tool that helps in creating interactive dashboards and reports.                             |\n",
    "| Apache Spark  | An open-source, distributed computing system that provides an interface for programming entire clusters with implicit data parallelism and fault tolerance. |\n",
    "| TensorFlow    | An end-to-end open-source platform for machine learning that enables developers to easily build and deploy ML powered applications. |"
   ]
  },
  {
   "cell_type": "markdown",
   "id": "83ab987e-b217-405a-a113-b5f33729bbbf",
   "metadata": {},
   "source": [
    "# Arithmetic Expression Examples\n",
    "\n",
    "In this section, we will explore basic arithmetic operations such as addition, subtraction, multiplication, and division. Here are some examples:\n",
    "\n",
    "\n",
    "- **Addition**: `5 + 3`\n",
    "- **Subtraction**: `10 - 2`\n",
    "\n",
    "- **Multiplication**: `4 * 6`\n",
    "- **Division**: `15 / 3`"
   ]
  },
  {
   "cell_type": "code",
   "execution_count": 2,
   "id": "435d6386-f30f-46ab-8b47-4530508c21c2",
   "metadata": {},
   "outputs": [
    {
     "name": "stdout",
     "output_type": "stream",
     "text": [
      "The result of multiplication is: 15\n",
      "The result of addition is: 15\n"
     ]
    }
   ],
   "source": [
    "# Code cell to multiply and add numbers\n",
    "\n",
    "# Multiply two numbers\n",
    "result_multiply = 5 * 3\n",
    "print(f\"The result of multiplication is: {result_multiply}\")\n",
    "\n",
    "# Add two numbers\n",
    "result_add = 10 + 5\n",
    "print(f\"The result of addition is: {result_add}\")\n"
   ]
  },
  {
   "cell_type": "code",
   "execution_count": 3,
   "id": "cf9a0d91-f070-4119-ad8e-d5401f0553a3",
   "metadata": {},
   "outputs": [
    {
     "name": "stdout",
     "output_type": "stream",
     "text": [
      "120 minutes is equal to 2.0 hours\n"
     ]
    }
   ],
   "source": [
    "# Code cell to convert minutes to hours\n",
    "\n",
    "# Function to convert minutes to hours\n",
    "def convert_minutes_to_hours(minutes):\n",
    "    hours = minutes / 60\n",
    "    return hours\n",
    "\n",
    "# Convert 120 minutes to hours\n",
    "minutes = 120\n",
    "hours = convert_minutes_to_hours(minutes)\n",
    "print(f\"{minutes} minutes is equal to {hours} hours\")"
   ]
  },
  {
   "cell_type": "markdown",
   "id": "dbbd40e4-4451-42d9-891c-3a233969b002",
   "metadata": {},
   "source": [
    "# Objectives\n",
    "\n",
    "\n",
    "1. **Understand Data Science Tools**: Gain familiarity with common tools used in data science such as Python, R, SQL, and Jupyter Notebook.\n",
    "2. **Perform Arithmetic Operations**: Learn how to perform basic arithmetic operations like multiplication and addition.\n",
    "\n",
    "3. **Convert Units**: Understand how to convert minutes to hours programmatically.\n",
    "4. **Documentation**: Practice documenting code and explaining processes using Markdown cells."
   ]
  },
  {
   "cell_type": "markdown",
   "id": "0e7106cb-2fed-41fa-9d31-9e8275e17a4c",
   "metadata": {},
   "source": [
    "# Author's Name\n",
    "\n",
    "Author: [ AbdalRahman Gameel Ahmed Hebishy ]"
   ]
  },
  {
   "cell_type": "code",
   "execution_count": null,
   "id": "97cc43c1-c4f1-4fe0-9be9-3842756e6394",
   "metadata": {},
   "outputs": [],
   "source": []
  }
 ],
 "metadata": {
  "kernelspec": {
   "display_name": "Python 3 (ipykernel)",
   "language": "python",
   "name": "python3"
  },
  "language_info": {
   "codemirror_mode": {
    "name": "ipython",
    "version": 3
   },
   "file_extension": ".py",
   "mimetype": "text/x-python",
   "name": "python",
   "nbconvert_exporter": "python",
   "pygments_lexer": "ipython3",
   "version": "3.8.10"
  }
 },
 "nbformat": 4,
 "nbformat_minor": 5
}
