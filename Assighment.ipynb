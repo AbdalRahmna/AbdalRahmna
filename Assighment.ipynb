{
 "cells": [
  {
   "cell_type": "markdown",
   "id": "bb1ea313-9a23-4cf3-bf8c-45ae10167581",
   "metadata": {},
   "source": [
    "# Data Science Final Project"
   ]
  },
  {
   "cell_type": "markdown",
   "id": "228bc360-e9c3-45ba-9222-fbd12d1d043d",
   "metadata": {},
   "source": [
    "## Introduction\n",
    "\n",
    "This notebook is a comprehensive guide to various aspects of data science, including programming languages, libraries, tools, and basic arithmetic operations. It also demonstrates how to convert minutes to hours using Python."
   ]
  },
  {
   "cell_type": "markdown",
   "id": "ad1ef6df-64d1-469f-8cd8-0af423f659dc",
   "metadata": {},
   "source": [
    "## Data Science Languages\n",
    "\n",
    "\n",
    "- **Python**: A versatile language with a rich ecosystem of libraries for data science (e.g., NumPy, Pandas, Scikit-learn).\n",
    "- **R**: A language specifically designed for statistical analysis and data visualization (e.g., ggplot2, dplyr).\n",
    "\n",
    "- **SQL**: Structured Query Language for managing and manipulating relational databases.\n",
    "- **Java**: Used for building scalable and high-performance applications (e.g., Apache Hadoop, Apache Spark).\n",
    "\n",
    "- **Scala**: Used with Apache Spark for big data processing and machine learning (e.g., Breeze).\n",
    "- **Julia**: A high-performance language for technical computing (e.g., DataFrames.jl, Flux.jl).\n",
    "\n",
    "- **MATLAB**: Used for numerical computing, simulation, and data analysis.\n",
    "- **SAS**: A proprietary software suite for advanced analytics, business intelligence, and data management.\n",
    "\n",
    "- **C++**: Used for performance-critical applications (e.g., Armadillo, Eigen).\n",
    "- **Go (Golang)**: Known for its performance and concurrency features (e.g., Gonum, GoLearn).\n",
    "\n",
    "- **JavaScript**: Used for web-based data visualization (e.g., D3.js, Chart.js).\n",
    "- **TypeScript**: A superset of JavaScript that adds static typing (e.g., for large-scale applications)."
   ]
  },
  {
   "cell_type": "markdown",
   "id": "2d66b446-39bf-406e-af55-fcf6ec3486e9",
   "metadata": {},
   "source": [
    "## Data Science Libraries\n",
    "\n",
    "\n",
    "- **Python Libraries**:\n",
    "  - **NumPy**: Fundamental package for scientific computing.\n",
    "  - **Pandas**: Library for data manipulation and analysis.\n",
    "  - **Matplotlib**: Plotting library for creating static, interactive, and animated visualizations.\n",
    "  - **Seaborn**: Statistical data visualization library.\n",
    "  - **Scikit-learn**: Machine learning library.\n",
    "  - **TensorFlow**: End-to-end platform for machine learning.\n",
    "  - **PyTorch**: Open-source machine learning library.\n",
    "  - **Keras**: Neural network library.\n",
    "\n",
    "\n",
    "- **R Libraries**:\n",
    "  - **ggplot2**: Data visualization library.\n",
    "  - **dplyr**: Data manipulation library.\n",
    "  - **tidyr**: Tidy data library.\n",
    "  - **caret**: Machine learning library.\n",
    "  - **lubridate**: Date and time manipulation library.\n",
    "  - **shiny**: Web application framework for R.\n",
    "\n",
    "\n",
    "- **Java Libraries**:\n",
    "  - **Apache Hadoop**: Framework for distributed storage and processing of big data.\n",
    "  - **Apache Spark**: Framework for large-scale data processing and machine learning.\n",
    "  - **Weka**: Machine learning library.\n",
    "  - **Deeplearning4j**: Deep learning library for Java and Scala.\n",
    "\n",
    "\n",
    "- **Scala Libraries**:\n",
    "  - **Apache Spark**: Framework for large-scale data processing and machine learning.\n",
    "  - **Breeze**: Numerical processing library.\n",
    "\n",
    "\n",
    "- **Julia Libraries**:\n",
    "  - **DataFrames.jl**: Data manipulation library.\n",
    "  - **Plots.jl**: Plotting library.\n",
    "  - **Flux.jl**: Machine learning library.\n",
    "\n",
    "\n",
    "- **C++ Libraries**:\n",
    "  - **Armadillo**: C++ linear algebra library.\n",
    "  - **Eigen**: C++ template library for linear algebra.\n",
    "\n",
    "\n",
    "- **JavaScript Libraries**:\n",
    "  - **D3.js**: JavaScript library for creating data visualizations.\n",
    "  - **Chart.js**: Simple yet flexible charting library."
   ]
  },
  {
   "cell_type": "markdown",
   "id": "a280b454-f21f-4582-9b9b-6104ada6e61a",
   "metadata": {},
   "source": [
    "## Data Science Tools\n",
    "\n",
    "| Tool          | Description                                                 |\n",
    "|---------------|------------------------------------------------------------|\n",
    "| Python        | A versatile programming language with a rich ecosystem of libraries for data science (e.g., NumPy, Pandas, Scikit-learn). |\n",
    "| R             | A language specifically designed for statistical analysis and data visualization, with packages like ggplot2 and dplyr.    |\n",
    "| SQL           | Structured Query Language for managing and manipulating relational databases.                                            |\n",
    "| Jupyter Notebook | An open-source web application that allows you to create and share documents that contain live code, equations, visualizations, and narrative text. |\n",
    "| RStudio       | An integrated development environment (IDE) for R, with a console, syntax-highlighting editor, and tools for plotting, viewing history, debugging, and managing your workspace. |\n",
    "| Tableau       | A powerful data visualization tool that helps in creating interactive dashboards and reports.                             |\n",
    "| Apache Spark  | An open-source, distributed computing system that provides an interface for programming entire clusters with implicit data parallelism and fault tolerance. |\n",
    "| TensorFlow    | An end-to-end open-source platform for machine learning that enables developers to easily build and deploy ML powered applications. |"
   ]
  },
  {
   "cell_type": "markdown",
   "id": "072cf1c1-ae6e-49f5-a9dd-a5988d7a29bc",
   "metadata": {},
   "source": [
    "## Arithmetic Expression Examples\n",
    "\n",
    "In this section, we will explore basic arithmetic operations such as addition, subtraction, multiplication, and division. Here are some examples:\n",
    "\n",
    "\n",
    "- **Addition**: `5 + 3`\n",
    "- **Subtraction**: `10 - 2`\n",
    "\n",
    "- **Multiplication**: `4 * 6`\n",
    "- **Division**: `15 / 3`"
   ]
  },
  {
   "cell_type": "code",
   "execution_count": 5,
   "id": "d5892ac4-9124-4570-99fa-8332dede67dd",
   "metadata": {},
   "outputs": [
    {
     "name": "stdout",
     "output_type": "stream",
     "text": [
      "The result of multiplication is: 15\n",
      "The result of addition is: 15\n"
     ]
    }
   ],
   "source": [
    "# Code cell to multiply and add numbers\n",
    "\n",
    "# Multiply two numbers\n",
    "result_multiply = 5 * 3\n",
    "print(f\"The result of multiplication is: {result_multiply}\")\n",
    "\n",
    "# Add two numbers\n",
    "result_add = 10 + 5\n",
    "print(f\"The result of addition is: {result_add}\")"
   ]
  },
  {
   "cell_type": "code",
   "execution_count": 6,
   "id": "61d7b4c3-f391-480f-91a6-bbf5530bdbde",
   "metadata": {},
   "outputs": [
    {
     "name": "stdout",
     "output_type": "stream",
     "text": [
      "120 minutes is equal to 2.0 hours\n"
     ]
    }
   ],
   "source": [
    "# Code cell to convert minutes to hours\n",
    "\n",
    "# Function to convert minutes to hours\n",
    "def convert_minutes_to_hours(minutes):\n",
    "    hours = minutes / 60\n",
    "    return hours\n",
    "\n",
    "# Convert 120 minutes to hours\n",
    "minutes = 120\n",
    "hours = convert_minutes_to_hours(minutes)\n",
    "print(f\"{minutes} minutes is equal to {hours} hours\")"
   ]
  },
  {
   "cell_type": "markdown",
   "id": "308ccff8-fcde-4e9f-b9a4-f706299d1b3c",
   "metadata": {},
   "source": [
    "## Objectives\n",
    "\n",
    "\n",
    "1. **Understand Data Science Tools**: Gain familiarity with common tools used in data science such as Python, R, SQL, and Jupyter Notebook.\n",
    "2. **Perform Arithmetic Operations**: Learn how to perform basic arithmetic operations like multiplication and addition.\n",
    "\n",
    "3. **Convert Units**: Understand how to convert minutes to hours programmatically.\n",
    "4. **Documentation**: Practice documenting code and explaining processes using Markdown cells."
   ]
  },
  {
   "cell_type": "code",
   "execution_count": null,
   "id": "06ffb5cd-03a1-4c12-932d-d081bc3c5d33",
   "metadata": {},
   "outputs": [],
   "source": [
    "## Author's Name\n",
    "\n",
    "Author: AbdalRahman "
   ]
  }
 ],
 "metadata": {
  "kernelspec": {
   "display_name": "Python 3 (ipykernel)",
   "language": "python",
   "name": "python3"
  },
  "language_info": {
   "codemirror_mode": {
    "name": "ipython",
    "version": 3
   },
   "file_extension": ".py",
   "mimetype": "text/x-python",
   "name": "python",
   "nbconvert_exporter": "python",
   "pygments_lexer": "ipython3",
   "version": "3.8.10"
  }
 },
 "nbformat": 4,
 "nbformat_minor": 5
}
